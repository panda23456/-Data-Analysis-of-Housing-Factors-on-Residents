{
 "cells": [
  {
   "cell_type": "code",
   "execution_count": 1,
   "metadata": {},
   "outputs": [],
   "source": [
    "import pandas as pd\n",
    "import numpy as np\n",
    "import os\n",
    "\n",
    "df = pd.read_csv(\"./data CA1/DATA CA1.CSV\")"
   ]
  },
  {
   "cell_type": "code",
   "execution_count": 2,
   "metadata": {},
   "outputs": [
    {
     "name": "stdout",
     "output_type": "stream",
     "text": [
      "Columns with zeros: ['Pop']\n"
     ]
    }
   ],
   "source": [
    "# Check for columns with zeros\n",
    "columns_with_zeros = df.columns[(df == 0).any()]\n",
    "\n",
    "# Display the columns that contain zeros\n",
    "print(\"Columns with zeros:\", columns_with_zeros.tolist())"
   ]
  },
  {
   "cell_type": "code",
   "execution_count": 5,
   "metadata": {},
   "outputs": [
    {
     "name": "stdout",
     "output_type": "stream",
     "text": [
      "PA values where all corresponding rows have Pop = 0:\n",
      "['Boon Lay', 'Central Water Catchment', 'Changi Bay', 'Marina East', 'Marina South', 'North-Eastern Islands', 'Paya Lebar', 'Pioneer', 'Simpang', 'Straits View', 'Tengah', 'Tuas', 'Western Islands']\n"
     ]
    }
   ],
   "source": [
    "# Assuming you already have a DataFrame named df\n",
    "\n",
    "# Find unique values in the '[PA]' column\n",
    "unique_pa_values = df['PA'].unique()\n",
    "\n",
    "# Initialize a list to store '[PA]' values where all corresponding rows have 'Pop' = 0\n",
    "all_zeros_pa = []\n",
    "\n",
    "# Iterate over unique '[PA]' values\n",
    "for pa_value in unique_pa_values:\n",
    "    # Filter rows where '[PA]' equals the current value\n",
    "    pa_rows = df[df['PA'] == pa_value]\n",
    "    # Check if all rows have 'Pop' = 0\n",
    "    if (pa_rows['Pop'] == 0).all():\n",
    "        # If all rows have 'Pop' = 0, add '[PA]' to the list\n",
    "        all_zeros_pa.append(pa_value)\n",
    "\n",
    "# Display '[PA]' values where all corresponding rows have 'Pop' = 0\n",
    "print(\"PA values where all corresponding rows have Pop = 0:\")\n",
    "print(all_zeros_pa)\n"
   ]
  },
  {
   "cell_type": "code",
   "execution_count": 6,
   "metadata": {},
   "outputs": [
    {
     "name": "stdout",
     "output_type": "stream",
     "text": [
      "DataFrame after removing rows with [PA] values where all corresponding rows have [Pop] = 0:\n",
      "                PA                      SZ           AG      Sex  \\\n",
      "0       Ang Mo Kio  Ang Mo Kio Town Centre       0_to_4    Males   \n",
      "1       Ang Mo Kio  Ang Mo Kio Town Centre       0_to_4    Males   \n",
      "2       Ang Mo Kio  Ang Mo Kio Town Centre       0_to_4    Males   \n",
      "3       Ang Mo Kio  Ang Mo Kio Town Centre       0_to_4    Males   \n",
      "4       Ang Mo Kio  Ang Mo Kio Town Centre       0_to_4    Males   \n",
      "...            ...                     ...          ...      ...   \n",
      "738487      Yishun             Yishun West  90_and_over  Females   \n",
      "738488      Yishun             Yishun West  90_and_over  Females   \n",
      "738489      Yishun             Yishun West  90_and_over  Females   \n",
      "738490      Yishun             Yishun West  90_and_over  Females   \n",
      "738491      Yishun             Yishun West  90_and_over  Females   \n",
      "\n",
      "                   FA  Pop  Time  \n",
      "0               <= 60    0  2011  \n",
      "1           >60 to 80   10  2011  \n",
      "2          >80 to 100   30  2011  \n",
      "3         >100 to 120   80  2011  \n",
      "4                >120   20  2011  \n",
      "...               ...  ...   ...  \n",
      "738487      >60 to 80   40  2020  \n",
      "738488     >80 to 100   50  2020  \n",
      "738489    >100 to 120   20  2020  \n",
      "738490           >120   20  2020  \n",
      "738491  Not Available   30  2020  \n",
      "\n",
      "[659832 rows x 7 columns]\n"
     ]
    }
   ],
   "source": [
    "# Assuming you already have a DataFrame named df\n",
    "\n",
    "# Find the rows with [PA] values where all corresponding rows have [Pop] = 0\n",
    "all_zeros_pa = []\n",
    "\n",
    "for pa_value in unique_pa_values:\n",
    "    pa_rows = df[df['PA'] == pa_value]\n",
    "    if (pa_rows['Pop'] == 0).all():\n",
    "        all_zeros_pa.append(pa_value)\n",
    "\n",
    "# Remove rows with [PA] values where all corresponding rows have [Pop] = 0\n",
    "filtered_df = df[~df['PA'].isin(all_zeros_pa)]\n",
    "\n",
    "# Display the filtered DataFrame\n",
    "print(\"DataFrame after removing rows with [PA] values where all corresponding rows have [Pop] = 0:\")\n",
    "print(filtered_df)"
   ]
  },
  {
   "cell_type": "code",
   "execution_count": 7,
   "metadata": {},
   "outputs": [
    {
     "name": "stdout",
     "output_type": "stream",
     "text": [
      "Filtered DataFrame has been exported as 'DATA_CA1_cleaned.csv'\n"
     ]
    }
   ],
   "source": [
    "# Assuming you already have a DataFrame named filtered_df\n",
    "\n",
    "# Export the filtered DataFrame to a CSV file\n",
    "filtered_df.to_csv(\"DATA_CA1_cleaned.csv\", index=False)\n",
    "\n",
    "# Confirmation message\n",
    "print(\"Filtered DataFrame has been exported as 'DATA_CA1_cleaned.csv'\")"
   ]
  }
 ],
 "metadata": {
  "kernelspec": {
   "display_name": "base",
   "language": "python",
   "name": "python3"
  },
  "language_info": {
   "codemirror_mode": {
    "name": "ipython",
    "version": 3
   },
   "file_extension": ".py",
   "mimetype": "text/x-python",
   "name": "python",
   "nbconvert_exporter": "python",
   "pygments_lexer": "ipython3",
   "version": "3.11.7"
  }
 },
 "nbformat": 4,
 "nbformat_minor": 2
}
